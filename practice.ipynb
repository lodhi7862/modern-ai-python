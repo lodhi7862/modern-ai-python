{
  "nbformat": 4,
  "nbformat_minor": 0,
  "metadata": {
    "colab": {
      "provenance": [],
      "authorship_tag": "ABX9TyPJ4HlOMMbGXEYcR/KQKugF",
      "include_colab_link": true
    },
    "kernelspec": {
      "name": "python3",
      "display_name": "Python 3"
    },
    "language_info": {
      "name": "python"
    }
  },
  "cells": [
    {
      "cell_type": "markdown",
      "metadata": {
        "id": "view-in-github",
        "colab_type": "text"
      },
      "source": [
        "<a href=\"https://colab.research.google.com/github/lodhi7862/modern-ai-python/blob/main/practice.ipynb\" target=\"_parent\"><img src=\"https://colab.research.google.com/assets/colab-badge.svg\" alt=\"Open In Colab\"/></a>"
      ]
    },
    {
      "cell_type": "code",
      "execution_count": null,
      "metadata": {
        "colab": {
          "base_uri": "https://localhost:8080/"
        },
        "id": "xxVtpAyqk3oU",
        "outputId": "f175e54a-8407-4b2c-ec8e-f9244659a57b"
      },
      "outputs": [
        {
          "output_type": "stream",
          "name": "stdout",
          "text": [
            "hello World!!\n"
          ]
        }
      ],
      "source": [
        "print(\"hello World!!\")"
      ]
    },
    {
      "cell_type": "code",
      "source": [
        "firstname = input(\"Enter Your FirstName\")\n",
        "Lastname = input(\"Enter Your LastName\")\n",
        "\n",
        "print(\"Your Full name is \"+firstname+\" \"+Lastname)"
      ],
      "metadata": {
        "colab": {
          "base_uri": "https://localhost:8080/"
        },
        "id": "1IacL3dplWGi",
        "outputId": "77e3e399-8a2f-4067-f4d4-b5f3749beed2"
      },
      "execution_count": null,
      "outputs": [
        {
          "output_type": "stream",
          "name": "stdout",
          "text": [
            "Enter Your FirstNamefaisal\n",
            "Enter Your LastNamelodhi\n",
            "Your Full name is faisal lodhi\n"
          ]
        }
      ]
    },
    {
      "cell_type": "code",
      "source": [
        "num1 = int(input(\"Enter First number: \"))\n",
        "num2 = int(input(\"Enter Second number: \"))\n",
        "\n",
        "add = num1 + num2\n",
        "subtract = num1 - num2\n",
        "multiply = num1 * num2\n",
        "divide = num1 / num2\n",
        "modulus = num1 % num2\n",
        "exponentiation = num1 ** num2\n",
        "floor_division = num1 // num2\n",
        "\n",
        "print(\"Sum is :\", add)\n",
        "print(\"Sum is :\", subtract)\n",
        "print(\"Sum is :\", multiply)\n",
        "print(\"Sum is :\", divide)\n",
        "print(\"Sum is :\", modulus)\n",
        "print(\"Sum is :\", exponentiation)\n",
        "print(\"Sum is :\", floor_division)"
      ],
      "metadata": {
        "colab": {
          "base_uri": "https://localhost:8080/"
        },
        "id": "c-S62ZwEl-oM",
        "outputId": "16d2d2fe-1366-42f6-8bb0-02a26d974a3e"
      },
      "execution_count": null,
      "outputs": [
        {
          "output_type": "stream",
          "name": "stdout",
          "text": [
            "Enter First number: 5\n",
            "Enter Second number: 5\n",
            "Sum is : 10\n",
            "Sum is : 0\n",
            "Sum is : 25\n",
            "Sum is : 1.0\n",
            "Sum is : 0\n",
            "Sum is : 3125\n",
            "Sum is : 1\n"
          ]
        }
      ]
    },
    {
      "cell_type": "code",
      "source": [
        "name = input(\"Write Student name \")\n",
        "rollnum = input(\"Write Student Roll Number \")\n",
        "venue = input(\"Write Class Venue \")\n",
        "shedule = input(\"Write Class Shedule \")\n"
      ],
      "metadata": {
        "id": "DVdI-34HuNHm"
      },
      "execution_count": null,
      "outputs": []
    },
    {
      "cell_type": "code",
      "source": [
        "import random\n",
        "ranguess = random.randint(1,10)\n",
        "attempts = 1\n",
        "print(ranguess)\n",
        "while(attempts < 6):\n",
        "  num = int(input(\"Enter a number \"))\n",
        "  if(ranguess == num):\n",
        "    print(\"Congrats\")\n",
        "    break\n",
        "  else:\n",
        "    print(\"Failed\")\n",
        "    attempts += 1\n",
        "    print(\"You have left \",6 - attempts)\n",
        "    if(attempts == 6):\n",
        "      print(\"Game Over! Best of luck for next time!!\")"
      ],
      "metadata": {
        "id": "8JEfdUCcvOqc",
        "colab": {
          "base_uri": "https://localhost:8080/"
        },
        "outputId": "e86a4aec-35ac-4585-dec8-bd2899a47a32"
      },
      "execution_count": 33,
      "outputs": [
        {
          "output_type": "stream",
          "name": "stdout",
          "text": [
            "7\n",
            "Enter a number 1\n",
            "Failed\n",
            "You have left  4\n",
            "Enter a number 2\n",
            "Failed\n",
            "You have left  3\n",
            "Enter a number 3\n",
            "Failed\n",
            "You have left  2\n",
            "Enter a number 4\n",
            "Failed\n",
            "You have left  1\n",
            "Enter a number 5\n",
            "Failed\n",
            "You have left  0\n",
            "Game Over! Best of luck for next time!!\n"
          ]
        }
      ]
    },
    {
      "cell_type": "code",
      "source": [],
      "metadata": {
        "colab": {
          "base_uri": "https://localhost:8080/"
        },
        "id": "5Vq3GuM5w92H",
        "outputId": "c6997d2f-37b9-400e-944f-7ecd77a903ff"
      },
      "execution_count": 12,
      "outputs": [
        {
          "output_type": "stream",
          "name": "stdout",
          "text": [
            "1\n"
          ]
        }
      ]
    }
  ]
}