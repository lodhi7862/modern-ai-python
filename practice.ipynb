{
  "nbformat": 4,
  "nbformat_minor": 0,
  "metadata": {
    "colab": {
      "provenance": [],
      "authorship_tag": "ABX9TyMf5eSfTBE0EINf5SKu1rH4",
      "include_colab_link": true
    },
    "kernelspec": {
      "name": "python3",
      "display_name": "Python 3"
    },
    "language_info": {
      "name": "python"
    }
  },
  "cells": [
    {
      "cell_type": "markdown",
      "metadata": {
        "id": "view-in-github",
        "colab_type": "text"
      },
      "source": [
        "<a href=\"https://colab.research.google.com/github/lodhi7862/modern-ai-python/blob/main/practice.ipynb\" target=\"_parent\"><img src=\"https://colab.research.google.com/assets/colab-badge.svg\" alt=\"Open In Colab\"/></a>"
      ]
    },
    {
      "cell_type": "code",
      "execution_count": null,
      "metadata": {
        "colab": {
          "base_uri": "https://localhost:8080/"
        },
        "id": "xxVtpAyqk3oU",
        "outputId": "f175e54a-8407-4b2c-ec8e-f9244659a57b"
      },
      "outputs": [
        {
          "output_type": "stream",
          "name": "stdout",
          "text": [
            "hello World!!\n"
          ]
        }
      ],
      "source": [
        "print(\"hello World!!\")"
      ]
    },
    {
      "cell_type": "code",
      "source": [
        "firstname = input(\"Enter Your FirstName\")\n",
        "Lastname = input(\"Enter Your LastName\")\n",
        "\n",
        "print(\"Your Full name is \"+firstname+\" \"+Lastname)"
      ],
      "metadata": {
        "colab": {
          "base_uri": "https://localhost:8080/"
        },
        "id": "1IacL3dplWGi",
        "outputId": "77e3e399-8a2f-4067-f4d4-b5f3749beed2"
      },
      "execution_count": null,
      "outputs": [
        {
          "output_type": "stream",
          "name": "stdout",
          "text": [
            "Enter Your FirstNamefaisal\n",
            "Enter Your LastNamelodhi\n",
            "Your Full name is faisal lodhi\n"
          ]
        }
      ]
    },
    {
      "cell_type": "code",
      "source": [
        "num1 = int(input(\"Enter First number: \"))\n",
        "num2 = int(input(\"Enter Second number: \"))\n",
        "\n",
        "add = num1 + num2\n",
        "subtract = num1 - num2\n",
        "multiply = num1 * num2\n",
        "divide = num1 / num2\n",
        "modulus = num1 % num2\n",
        "exponentiation = num1 ** num2\n",
        "floor_division = num1 // num2\n",
        "\n",
        "print(\"Sum is :\", add)\n",
        "print(\"Sum is :\", subtract)\n",
        "print(\"Sum is :\", multiply)\n",
        "print(\"Sum is :\", divide)\n",
        "print(\"Sum is :\", modulus)\n",
        "print(\"Sum is :\", exponentiation)\n",
        "print(\"Sum is :\", floor_division)"
      ],
      "metadata": {
        "colab": {
          "base_uri": "https://localhost:8080/"
        },
        "id": "c-S62ZwEl-oM",
        "outputId": "16d2d2fe-1366-42f6-8bb0-02a26d974a3e"
      },
      "execution_count": null,
      "outputs": [
        {
          "output_type": "stream",
          "name": "stdout",
          "text": [
            "Enter First number: 5\n",
            "Enter Second number: 5\n",
            "Sum is : 10\n",
            "Sum is : 0\n",
            "Sum is : 25\n",
            "Sum is : 1.0\n",
            "Sum is : 0\n",
            "Sum is : 3125\n",
            "Sum is : 1\n"
          ]
        }
      ]
    },
    {
      "cell_type": "code",
      "source": [
        "name = input(\"Write Student name \")\n",
        "rollnum = input(\"Write Student Roll Number \")\n",
        "venue = input(\"Write Class Venue \")\n",
        "shedule = input(\"Write Class Shedule \")\n"
      ],
      "metadata": {
        "id": "DVdI-34HuNHm"
      },
      "execution_count": null,
      "outputs": []
    },
    {
      "cell_type": "code",
      "source": [
        "#."
      ],
      "metadata": {
        "id": "8JEfdUCcvOqc"
      },
      "execution_count": null,
      "outputs": []
    }
  ]
}